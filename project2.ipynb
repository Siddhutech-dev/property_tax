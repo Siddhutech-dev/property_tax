{
 "cells": [
  {
   "cell_type": "code",
   "execution_count": 1,
   "id": "12846559-df99-4d1e-9076-1fa63bd0132e",
   "metadata": {},
   "outputs": [],
   "source": [
    "import pandas as pd"
   ]
  },
  {
   "cell_type": "code",
   "execution_count": 2,
   "id": "3519d749-4abe-41e3-a42a-35f3128346be",
   "metadata": {},
   "outputs": [],
   "source": [
    "import numpy as np"
   ]
  },
  {
   "cell_type": "code",
   "execution_count": 3,
   "id": "4f0a788e-c172-4077-81e3-520c43696f79",
   "metadata": {},
   "outputs": [],
   "source": [
    "import matplotlib.pyplot as plt"
   ]
  },
  {
   "cell_type": "code",
   "execution_count": 4,
   "id": "70d1938b-a547-4935-843d-79b72f804a74",
   "metadata": {},
   "outputs": [],
   "source": [
    "from scipy.stats import t"
   ]
  },
  {
   "cell_type": "code",
   "execution_count": 5,
   "id": "e18701c9-c1be-47a9-b20d-72b4676459ff",
   "metadata": {},
   "outputs": [],
   "source": [
    "import seaborn as sns"
   ]
  },
  {
   "cell_type": "code",
   "execution_count": 6,
   "id": "258b1ab1-0805-40cf-abd3-00c4a575330c",
   "metadata": {},
   "outputs": [],
   "source": [
    "tax=pd.read_csv(r'C:\\Users\\siddh\\Downloads\\property_tax.csv')\n"
   ]
  },
  {
   "cell_type": "code",
   "execution_count": 7,
   "id": "76d9271c-7905-44c4-bc4e-48f6499b9ff9",
   "metadata": {},
   "outputs": [
    {
     "data": {
      "text/plain": [
       "20409"
      ]
     },
     "execution_count": 7,
     "metadata": {},
     "output_type": "execute_result"
    }
   ],
   "source": [
    "tax['Total Lease Cost'].min()\n"
   ]
  },
  {
   "cell_type": "code",
   "execution_count": 8,
   "id": "5edf578d-47c8-4c40-a5b5-ff9fc699089d",
   "metadata": {},
   "outputs": [
    {
     "data": {
      "text/plain": [
       "2820213"
      ]
     },
     "execution_count": 8,
     "metadata": {},
     "output_type": "execute_result"
    }
   ],
   "source": [
    "tax['Total Lease Cost'].max()\n"
   ]
  },
  {
   "cell_type": "code",
   "execution_count": 9,
   "id": "78608c88-ebda-4f6f-8697-d217e117ae05",
   "metadata": {},
   "outputs": [
    {
     "data": {
      "image/png": "[encoded data removed]",
      "text/plain": [
       "<Figure size 640x480 with 2 Axes>"
      ]
     },
     "metadata": {},
     "output_type": "display_data"
    }
   ],
   "source": [
    "f, (ax_box, ax_hist) = plt.subplots(2, sharex=True, gridspec_kw={\"height_ratios\": (.15, .85)})\n"
   ]
  },
  {
   "cell_type": "code",
   "execution_count": 10,
   "id": "8054cc34-0bee-43cc-98d2-f61d3f3e5ca6",
   "metadata": {},
   "outputs": [
    {
     "data": {
      "text/plain": [
       "[Text(0.5, 1.0, 'Average Cost of Lease')]"
      ]
     },
     "execution_count": 10,
     "metadata": {},
     "output_type": "execute_result"
    }
   ],
   "source": [
    "sns.boxplot(tax[\"Total Lease Cost\"],ax=ax_box).set(title='Average Cost of Lease')\n"
   ]
  },
  {
   "cell_type": "code",
   "execution_count": 11,
   "id": "1caff55d-8aae-4139-85b2-5fb774d63452",
   "metadata": {},
   "outputs": [
    {
     "name": "stderr",
     "output_type": "stream",
     "text": [
      "C:\\Users\\siddh\\AppData\\Local\\Temp\\ipykernel_3192\\2483296907.py:1: UserWarning: \n",
      "\n",
      "`distplot` is a deprecated function and will be removed in seaborn v0.14.0.\n",
      "\n",
      "Please adapt your code to use either `displot` (a figure-level function with\n",
      "similar flexibility) or `histplot` (an axes-level function for histograms).\n",
      "\n",
      "For a guide to updating your code to use the new functions, please see\n",
      "https://gist.github.com/mwaskom/de44147ed2974457ad6372750bbe5751\n",
      "\n",
      "  sns.distplot(tax[\"Total Lease Cost\"],ax=ax_hist)\n"
     ]
    },
    {
     "data": {
      "text/plain": [
       "<Axes: xlabel='Total Lease Cost', ylabel='Density'>"
      ]
     },
     "execution_count": 11,
     "metadata": {},
     "output_type": "execute_result"
    }
   ],
   "source": [
    "sns.distplot(tax[\"Total Lease Cost\"],ax=ax_hist)\n"
   ]
  },
  {
   "cell_type": "code",
   "execution_count": 12,
   "id": "d3021c17-3bb9-4f72-b55c-e62819bde4da",
   "metadata": {},
   "outputs": [],
   "source": [
    "plt.show()\n"
   ]
  },
  {
   "cell_type": "code",
   "execution_count": 13,
   "id": "3244b18e-8e69-4844-be8d-32b6f5398981",
   "metadata": {},
   "outputs": [],
   "source": [
    "mean = tax['Total Lease Cost'].mean()\n"
   ]
  },
  {
   "cell_type": "code",
   "execution_count": 14,
   "id": "6a8d009b-ed76-4c58-9649-75603412feab",
   "metadata": {},
   "outputs": [],
   "source": [
    "sdev = tax['Total Lease Cost'].std()\n"
   ]
  },
  {
   "cell_type": "code",
   "execution_count": 15,
   "id": "51b6d7a6-c960-4a9b-912d-dd12442d1f64",
   "metadata": {},
   "outputs": [],
   "source": [
    "n = tax['Total Lease Cost'].count()\n"
   ]
  },
  {
   "cell_type": "code",
   "execution_count": 16,
   "id": "8c66b2d3-27d8-47bf-858f-eed7b94747a7",
   "metadata": {},
   "outputs": [],
   "source": [
    "K3 = tax['Total Lease Cost'].skew()\n"
   ]
  },
  {
   "cell_type": "code",
   "execution_count": 17,
   "id": "6299398a-8bd5-4e5e-99f4-d85c69685332",
   "metadata": {},
   "outputs": [],
   "source": [
    "K4 = tax['Total Lease Cost'].kurtosis()\n"
   ]
  },
  {
   "cell_type": "code",
   "execution_count": 18,
   "id": "996c3058-26f7-479c-a54d-08125021520e",
   "metadata": {},
   "outputs": [
    {
     "data": {
      "text/plain": [
       "(478603.4798206278,\n",
       " 535342.5637301835,\n",
       " 223,\n",
       " 1.953472329294872,\n",
       " 4.137508828414167)"
      ]
     },
     "execution_count": 18,
     "metadata": {},
     "output_type": "execute_result"
    }
   ],
   "source": [
    " mean, sdev, n, K3, K4\n",
    "(478603.4798206278, 535342.5637301835, 223, 1.953472329294872, 4.137508828414167)"
   ]
  },
  {
   "cell_type": "code",
   "execution_count": 19,
   "id": "3e23d05f-74c2-43ed-8c8e-9b7ad4133294",
   "metadata": {},
   "outputs": [],
   "source": [
    "se= sdev/np.sqrt(n)\n"
   ]
  },
  {
   "cell_type": "code",
   "execution_count": 20,
   "id": "d7f65dd5-20cb-48de-b50c-fed4b1565848",
   "metadata": {},
   "outputs": [
    {
     "data": {
      "text/plain": [
       "35849.18962885723"
      ]
     },
     "execution_count": 20,
     "metadata": {},
     "output_type": "execute_result"
    }
   ],
   "source": [
    "se"
   ]
  },
  {
   "cell_type": "code",
   "execution_count": 21,
   "id": "3782822a-e59c-4f7c-8bae-9f6a39cc0118",
   "metadata": {},
   "outputs": [],
   "source": [
    "tval = t.ppf(1.95/2.,n-1)\n"
   ]
  },
  {
   "cell_type": "code",
   "execution_count": 22,
   "id": "e07036dc-3803-413b-8205-195c6214efdd",
   "metadata": {},
   "outputs": [
    {
     "data": {
      "text/plain": [
       "1.9707073953190277"
      ]
     },
     "execution_count": 22,
     "metadata": {},
     "output_type": "execute_result"
    }
   ],
   "source": [
    "tval"
   ]
  },
  {
   "cell_type": "code",
   "execution_count": 23,
   "id": "eb1cba6c-dcc1-44e5-a93a-1252cb101235",
   "metadata": {},
   "outputs": [
    {
     "data": {
      "text/plain": [
       "549251.742938411"
      ]
     },
     "execution_count": 23,
     "metadata": {},
     "output_type": "execute_result"
    }
   ],
   "source": [
    "mean + se*tval\n"
   ]
  },
  {
   "cell_type": "code",
   "execution_count": 24,
   "id": "77cb2c13-4e0a-4018-bbfc-65fa8542a1a0",
   "metadata": {},
   "outputs": [
    {
     "data": {
      "text/plain": [
       "407955.21670284466"
      ]
     },
     "execution_count": 24,
     "metadata": {},
     "output_type": "execute_result"
    }
   ],
   "source": [
    " mean - se*tval\n"
   ]
  },
  {
   "cell_type": "code",
   "execution_count": 25,
   "id": "7dbd381a-ce38-4807-8a57-9e37f6a94a17",
   "metadata": {},
   "outputs": [
    {
     "data": {
      "text/plain": [
       "24716328.432228494"
      ]
     },
     "execution_count": 25,
     "metadata": {},
     "output_type": "execute_result"
    }
   ],
   "source": [
    "(mean + se*tval)*0.01*4500\n"
   ]
  },
  {
   "cell_type": "code",
   "execution_count": 26,
   "id": "2f431edb-6eee-4657-98ec-fe69e535b3ac",
   "metadata": {},
   "outputs": [
    {
     "data": {
      "text/plain": [
       "18357984.751628008"
      ]
     },
     "execution_count": 26,
     "metadata": {},
     "output_type": "execute_result"
    }
   ],
   "source": [
    "(mean - se*tval)*0.01*4500\n"
   ]
  },
  {
   "cell_type": "code",
   "execution_count": 27,
   "id": "7ed05de8-0a8f-42f3-afb9-1b3a294628a8",
   "metadata": {},
   "outputs": [],
   "source": [
    "from scipy.stats import norm\n"
   ]
  },
  {
   "cell_type": "code",
   "execution_count": 28,
   "id": "672d9ebe-f224-4a07-8447-de30177d6921",
   "metadata": {},
   "outputs": [
    {
     "data": {
      "text/plain": [
       "1.959963984540054"
      ]
     },
     "execution_count": 28,
     "metadata": {},
     "output_type": "execute_result"
    }
   ],
   "source": [
    "norm.ppf(1.95/2)\n"
   ]
  },
  {
   "cell_type": "code",
   "execution_count": 29,
   "id": "a8b72240-a1d8-4eb8-aead-34cb269c99ee",
   "metadata": {},
   "outputs": [],
   "source": [
    "import statsmodels.stats.proportion as proportion\n"
   ]
  },
  {
   "cell_type": "code",
   "execution_count": 30,
   "id": "ec3f4895-7271-49ab-b53b-ece943bc54c2",
   "metadata": {},
   "outputs": [],
   "source": [
    "ci_low, ci_upp = proportion.proportion_confint(160,400,alpha=0.05, method=\"normal\")\n"
   ]
  },
  {
   "cell_type": "code",
   "execution_count": 31,
   "id": "592d653f-1205-408a-b485-d4ebab1585e2",
   "metadata": {},
   "outputs": [
    {
     "data": {
      "text/plain": [
       "(0.3519908832364469, 0.44800911676355315)"
      ]
     },
     "execution_count": 31,
     "metadata": {},
     "output_type": "execute_result"
    }
   ],
   "source": [
    "ci_low, ci_upp\n"
   ]
  },
  {
   "cell_type": "code",
   "execution_count": null,
   "id": "639212a6-c165-47c6-89f9-c6c2390389a6",
   "metadata": {},
   "outputs": [],
   "source": []
  }
 ],
 "metadata": {
  "kernelspec": {
   "display_name": "Python 3 (ipykernel)",
   "language": "python",
   "name": "python3"
  },
  "language_info": {
   "codemirror_mode": {
    "name": "ipython",
    "version": 3
   },
   "file_extension": ".py",
   "mimetype": "text/x-python",
   "name": "python",
   "nbconvert_exporter": "python",
   "pygments_lexer": "ipython3",
   "version": "3.12.4"
  }
 },
 "nbformat": 4,
 "nbformat_minor": 5
}
